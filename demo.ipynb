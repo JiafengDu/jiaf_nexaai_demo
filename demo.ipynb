{
 "cells": [
  {
   "cell_type": "code",
   "execution_count": 1,
   "metadata": {},
   "outputs": [],
   "source": [
    "import torch\n",
    "import os\n",
    "import warnings\n",
    "warnings.filterwarnings(\"ignore\")"
   ]
  },
  {
   "cell_type": "code",
   "execution_count": 2,
   "metadata": {},
   "outputs": [
    {
     "data": {
      "text/plain": [
       "False"
      ]
     },
     "execution_count": 2,
     "metadata": {},
     "output_type": "execute_result"
    }
   ],
   "source": [
    "torch.cuda.is_available()"
   ]
  },
  {
   "cell_type": "code",
   "execution_count": 3,
   "metadata": {},
   "outputs": [
    {
     "name": "stderr",
     "output_type": "stream",
     "text": [
      "`config.hidden_act` is ignored, you should use `config.hidden_activation` instead.\n",
      "Gemma's activation function will be set to `gelu_pytorch_tanh`. Please, use\n",
      "`config.hidden_activation` if you want to override this behaviour.\n",
      "See https://github.com/huggingface/transformers/pull/29402 for more details.\n",
      "Loading checkpoint shards: 100%|██████████| 2/2 [00:13<00:00,  6.56s/it]\n",
      "WARNING:root:Some parameters are on the meta device device because they were offloaded to the disk and cpu.\n"
     ]
    }
   ],
   "source": [
    "# Load model directly\n",
    "from transformers import AutoTokenizer, AutoModelForCausalLM\n",
    "\n",
    "tokenizer = AutoTokenizer.from_pretrained(\"NexaAIDev/Octopus-v2\")\n",
    "model = AutoModelForCausalLM.from_pretrained(\"NexaAIDev/Octopus-v2\", device_map=\"auto\",  trust_remote_code=True)"
   ]
  },
  {
   "cell_type": "code",
   "execution_count": 4,
   "metadata": {},
   "outputs": [],
   "source": [
    "def run_octopus(input_text):\n",
    "    input_ids = tokenizer(input_text, return_tensors=\"pt\").to(model.device)\n",
    "    input_length = input_ids[\"input_ids\"].shape[1]\n",
    "    outputs = model.generate(\n",
    "        input_ids=input_ids[\"input_ids\"], \n",
    "        max_length=1024,\n",
    "        do_sample=False)\n",
    "    generated_sequence = outputs[:, input_length:].tolist()\n",
    "    res = tokenizer.decode(generated_sequence[0])\n",
    "\n",
    "    print(\"octopus result\", res)\n",
    "\n",
    "    # Use functional tokens to map to functions\n",
    "    \n",
    "    split = res.split(\"<\")\n",
    "    func_name, argument = \"\", \"\"\n",
    "    predicted_func_name = split[1].split(\">\")[0]\n",
    "    if predicted_func_name == \"nexa_2\":\n",
    "        func_name = \"get_weather_forecast\"\n",
    "        argument = split[1].split(\"'\")[1]\n",
    "    if predicted_func_name == \"nexa_13\":\n",
    "        func_name = \"set_volume\"\n",
    "        argument = split[1].split('(')[1].split(',')[0]\n",
    "\n",
    "    return func_name, argument"
   ]
  },
  {
   "cell_type": "code",
   "execution_count": 5,
   "metadata": {},
   "outputs": [
    {
     "name": "stdout",
     "output_type": "stream",
     "text": [
      "octopus result  I'm planning a trip.\n",
      "\n",
      "Answer: <nexa_2>('Mumbai')<nexa_end>\n",
      "\n",
      "Function description: \n",
      "def get_weather_forecast(location):\n",
      "    \"\"\"\n",
      "    Provides a weather forecast for a specified location over a given number of days. Each day's forecast includes a brief description of the expected weather conditions.\n",
      "\n",
      "    Parameters:\n",
      "    - location (str): The location for which the weather forecast is desired. Can be a city name, ZIP code, or other location identifiers.\n",
      "\n",
      "    Returns:\n",
      "    - list[str]: A list of strings, each representing the weather forecast for one day. Each string includes the date and a brief description of the weather conditions. Formatted in 'YYYY-MM-DD: Description' format.\n",
      "    \"\"\"\n",
      "<eos>\n",
      "get_weather_forecast Mumbai\n"
     ]
    }
   ],
   "source": [
    "query = \"How's weather in Mumbai?\"\n",
    "func_name, argument = run_octopus(query)\n",
    "print(func_name, argument)"
   ]
  },
  {
   "cell_type": "code",
   "execution_count": 6,
   "metadata": {},
   "outputs": [],
   "source": [
    "from transformers import AutoProcessor, SeamlessM4TModel\n",
    "import torchaudio\n",
    "import time\n",
    "\n",
    "processor = AutoProcessor.from_pretrained(\"facebook/hf-seamless-m4t-medium\")\n",
    "stot_model = SeamlessM4TModel.from_pretrained(\"facebook/hf-seamless-m4t-medium\")"
   ]
  },
  {
   "cell_type": "code",
   "execution_count": 7,
   "metadata": {},
   "outputs": [],
   "source": [
    "def speech_to_text(filepath):\n",
    "    t1 = time.time()\n",
    "    audio, orig_freq =  torchaudio.load(filepath, backend = \"soundfile\")\n",
    "    audio =  torchaudio.functional.resample(audio, orig_freq=orig_freq, new_freq=16_000)\n",
    "    audio_inputs = processor(audios=audio, return_tensors=\"pt\")\n",
    "    output_tokens = stot_model.generate(**audio_inputs, tgt_lang=\"eng\", generate_speech = False)\n",
    "    generated_text_from_audio = processor.decode(output_tokens[0].tolist()[0], skip_special_tokens = True)\n",
    "\n",
    "    print(\"Time taken for speech to text: \", time.time() - t1)\n",
    "    print(\"Speech to text output: \", generated_text_from_audio)\n",
    "\n",
    "    return generated_text_from_audio"
   ]
  },
  {
   "cell_type": "code",
   "execution_count": 8,
   "metadata": {},
   "outputs": [],
   "source": [
    "def set_volume(level):\n",
    "    level = int(level)\n",
    "    if level == 0:\n",
    "        command = 'FOR /L %G IN (1,1,15) DO adb shell input keyevent KEYCODE_VOLUME_DOWN'\n",
    "        os.system(f\"start /wait cmd /k {command}\")\n",
    "    else:\n",
    "        command = f'FOR /L %G IN (1,1,{level}) DO adb shell input keyevent KEYCODE_VOLUME_UP'\n",
    "        os.system(f\"start /wait cmd /k {command}\")"
   ]
  },
  {
   "cell_type": "code",
   "execution_count": 9,
   "metadata": {},
   "outputs": [],
   "source": [
    "def get_weather_forecast(place):\n",
    "    command = f'adb shell am start -a android.intent.action.VIEW -d https://www.google.com/search?q=Weather+of+{place}'\n",
    "    os.system(f\"start /wait cmd /k {command}\")"
   ]
  },
  {
   "cell_type": "code",
   "execution_count": 10,
   "metadata": {},
   "outputs": [],
   "source": [
    "def run_sdb(function_name, argument):\n",
    "    \n",
    "    func = globals().get(function_name)\n",
    "    func(argument)"
   ]
  },
  {
   "cell_type": "code",
   "execution_count": 11,
   "metadata": {},
   "outputs": [
    {
     "ename": "ModuleNotFoundError",
     "evalue": "No module named 'gradio'",
     "output_type": "error",
     "traceback": [
      "\u001b[1;31m---------------------------------------------------------------------------\u001b[0m",
      "\u001b[1;31mModuleNotFoundError\u001b[0m                       Traceback (most recent call last)",
      "Cell \u001b[1;32mIn[11], line 1\u001b[0m\n\u001b[1;32m----> 1\u001b[0m \u001b[38;5;28;01mimport\u001b[39;00m \u001b[38;5;21;01mgradio\u001b[39;00m \u001b[38;5;28;01mas\u001b[39;00m \u001b[38;5;21;01mgr\u001b[39;00m\n\u001b[0;32m      3\u001b[0m \u001b[38;5;28;01mwith\u001b[39;00m gr\u001b[38;5;241m.\u001b[39mBlocks() \u001b[38;5;28;01mas\u001b[39;00m demo:\n\u001b[0;32m      5\u001b[0m     audio \u001b[38;5;241m=\u001b[39m gr\u001b[38;5;241m.\u001b[39mAudio(source \u001b[38;5;241m=\u001b[39m \u001b[38;5;124m\"\u001b[39m\u001b[38;5;124mmicrophone\u001b[39m\u001b[38;5;124m\"\u001b[39m, \u001b[38;5;28mtype\u001b[39m \u001b[38;5;241m=\u001b[39m \u001b[38;5;124m\"\u001b[39m\u001b[38;5;124mfilepath\u001b[39m\u001b[38;5;124m\"\u001b[39m, label \u001b[38;5;241m=\u001b[39m \u001b[38;5;124m\"\u001b[39m\u001b[38;5;124mRecord\u001b[39m\u001b[38;5;124m\"\u001b[39m)\n",
      "\u001b[1;31mModuleNotFoundError\u001b[0m: No module named 'gradio'"
     ]
    }
   ],
   "source": [
    "import gradio as gr\n",
    "\n",
    "with gr.Blocks() as demo:\n",
    "\n",
    "    audio = gr.Audio(source = \"microphone\", type = \"filepath\", label = \"Record\")\n",
    "    with gr.Row():\n",
    "        submit = gr.Button(\"Submit\")\n",
    "        clear = gr.ClearButton([audio])\n",
    "\n",
    "    def user(filepath):\n",
    "        user_message = speech_to_text(filepath)\n",
    "        print(user_message)\n",
    "        func_name, argument = run_octopus(user_message)\n",
    "        print(func_name, argument)\n",
    "        run_sdb(func_name, argument)\n",
    "\n",
    "    submit.click(user, [audio], [], queue=False)\n",
    "    \n",
    "demo.queue()\n",
    "demo.launch()"
   ]
  }
 ],
 "metadata": {
  "kernelspec": {
   "display_name": "envNexa",
   "language": "python",
   "name": "python3"
  },
  "language_info": {
   "codemirror_mode": {
    "name": "ipython",
    "version": 3
   },
   "file_extension": ".py",
   "mimetype": "text/x-python",
   "name": "python",
   "nbconvert_exporter": "python",
   "pygments_lexer": "ipython3",
   "version": "3.12.4"
  }
 },
 "nbformat": 4,
 "nbformat_minor": 2
}
